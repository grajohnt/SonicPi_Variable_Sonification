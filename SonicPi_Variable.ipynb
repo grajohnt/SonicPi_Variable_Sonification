{
 "cells": [
  {
   "cell_type": "markdown",
   "metadata": {},
   "source": [
    "## Simple variable sonification with Sonic Pi\n",
    "\n",
    "### Prerequisites:\n",
    "* Install [Sonic Pi](https://sonic-pi.net/)\n",
    "* Install [Python Sonic](https://github.com/gkvoelkl/python-sonic) with `pip install python-sonic`\n",
    "* Must like [breakbeat](https://en.wikipedia.org/wiki/Amen_break)\n",
    "\n"
   ]
  },
  {
   "cell_type": "code",
   "execution_count": 5,
   "metadata": {},
   "outputs": [],
   "source": [
    "from psonic import *\n",
    "from threading import Thread"
   ]
  },
  {
   "cell_type": "code",
   "execution_count": 22,
   "metadata": {},
   "outputs": [],
   "source": [
    "# Definite initial speed - this is the variable we will change\n",
    "\n",
    "loop_speed = 2"
   ]
  },
  {
   "cell_type": "code",
   "execution_count": 7,
   "metadata": {},
   "outputs": [],
   "source": [
    "# Set up our sampling loop to run at a particular speed\n",
    "\n",
    "def my_loop():\n",
    "  sample(LOOP_AMEN,beat_stretch=loop_speed)\n",
    "  sleep(loop_speed)\n",
    "\n",
    "def looper():\n",
    "  while True:\n",
    "    my_loop()\n"
   ]
  },
  {
   "cell_type": "code",
   "execution_count": 8,
   "metadata": {},
   "outputs": [],
   "source": [
    "# Run the threads - remember to stop you have to choose Kernel->Restart!\n",
    "\n",
    "looper_thread = Thread(name='looper', target=looper)\n",
    "looper_thread.start()"
   ]
  },
  {
   "cell_type": "markdown",
   "metadata": {},
   "source": [
    "### Change the variable below and run the block"
   ]
  },
  {
   "cell_type": "code",
   "execution_count": 24,
   "metadata": {},
   "outputs": [],
   "source": [
    "# Sensible values here are between about 1.2 and 3 - scale appropriately!\n",
    "loop_speed = 1.8"
   ]
  },
  {
   "cell_type": "code",
   "execution_count": null,
   "metadata": {},
   "outputs": [],
   "source": []
  }
 ],
 "metadata": {
  "kernelspec": {
   "display_name": "Python 3",
   "language": "python",
   "name": "python3"
  },
  "language_info": {
   "codemirror_mode": {
    "name": "ipython",
    "version": 3
   },
   "file_extension": ".py",
   "mimetype": "text/x-python",
   "name": "python",
   "nbconvert_exporter": "python",
   "pygments_lexer": "ipython3",
   "version": "3.6.5"
  }
 },
 "nbformat": 4,
 "nbformat_minor": 2
}
